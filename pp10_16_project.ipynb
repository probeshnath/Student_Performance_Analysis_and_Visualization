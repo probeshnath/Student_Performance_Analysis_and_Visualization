{
  "nbformat": 4,
  "nbformat_minor": 0,
  "metadata": {
    "colab": {
      "provenance": []
    },
    "kernelspec": {
      "name": "python3",
      "display_name": "Python 3"
    },
    "language_info": {
      "name": "python"
    }
  },
  "cells": [
    {
      "cell_type": "markdown",
      "source": [
        "**Project Title: \"Student Performance Analysis and Visualization\"**"
      ],
      "metadata": {
        "id": "wyidnuotdCAT"
      }
    },
    {
      "cell_type": "markdown",
      "source": [
        "Create a Python program to analyze and visualize student performance data using concepts\n",
        "learned in the course, including file handling, data structures, functions, loops, NumPy, and\n",
        "Pandas."
      ],
      "metadata": {
        "id": "Bwu0BCXCdJiq"
      }
    },
    {
      "cell_type": "markdown",
      "source": [
        "**1. Data Collection and Storage**"
      ],
      "metadata": {
        "id": "JCvAb5C_O9G3"
      }
    },
    {
      "cell_type": "markdown",
      "source": [
        "Simulate or gather a CSV file with student performance data, including: ○ Student Name, Student ID ○ Subject, Score, Attendance Percentage ○ Assignment Completion (Yes/No)"
      ],
      "metadata": {
        "id": "ntnFAl2zPDCH"
      }
    },
    {
      "cell_type": "code",
      "source": [
        "from google.colab import files\n",
        "files.upload()"
      ],
      "metadata": {
        "colab": {
          "base_uri": "https://localhost:8080/",
          "height": 1000
        },
        "id": "kSfq_cAeMk2v",
        "outputId": "13958fd2-28ef-4868-b7ce-84e89e2c806b"
      },
      "execution_count": null,
      "outputs": [
        {
          "output_type": "display_data",
          "data": {
            "text/plain": [
              "<IPython.core.display.HTML object>"
            ],
            "text/html": [
              "\n",
              "     <input type=\"file\" id=\"files-cbd49478-1f12-468b-b761-b57c9a5be166\" name=\"files[]\" multiple disabled\n",
              "        style=\"border:none\" />\n",
              "     <output id=\"result-cbd49478-1f12-468b-b761-b57c9a5be166\">\n",
              "      Upload widget is only available when the cell has been executed in the\n",
              "      current browser session. Please rerun this cell to enable.\n",
              "      </output>\n",
              "      <script>// Copyright 2017 Google LLC\n",
              "//\n",
              "// Licensed under the Apache License, Version 2.0 (the \"License\");\n",
              "// you may not use this file except in compliance with the License.\n",
              "// You may obtain a copy of the License at\n",
              "//\n",
              "//      http://www.apache.org/licenses/LICENSE-2.0\n",
              "//\n",
              "// Unless required by applicable law or agreed to in writing, software\n",
              "// distributed under the License is distributed on an \"AS IS\" BASIS,\n",
              "// WITHOUT WARRANTIES OR CONDITIONS OF ANY KIND, either express or implied.\n",
              "// See the License for the specific language governing permissions and\n",
              "// limitations under the License.\n",
              "\n",
              "/**\n",
              " * @fileoverview Helpers for google.colab Python module.\n",
              " */\n",
              "(function(scope) {\n",
              "function span(text, styleAttributes = {}) {\n",
              "  const element = document.createElement('span');\n",
              "  element.textContent = text;\n",
              "  for (const key of Object.keys(styleAttributes)) {\n",
              "    element.style[key] = styleAttributes[key];\n",
              "  }\n",
              "  return element;\n",
              "}\n",
              "\n",
              "// Max number of bytes which will be uploaded at a time.\n",
              "const MAX_PAYLOAD_SIZE = 100 * 1024;\n",
              "\n",
              "function _uploadFiles(inputId, outputId) {\n",
              "  const steps = uploadFilesStep(inputId, outputId);\n",
              "  const outputElement = document.getElementById(outputId);\n",
              "  // Cache steps on the outputElement to make it available for the next call\n",
              "  // to uploadFilesContinue from Python.\n",
              "  outputElement.steps = steps;\n",
              "\n",
              "  return _uploadFilesContinue(outputId);\n",
              "}\n",
              "\n",
              "// This is roughly an async generator (not supported in the browser yet),\n",
              "// where there are multiple asynchronous steps and the Python side is going\n",
              "// to poll for completion of each step.\n",
              "// This uses a Promise to block the python side on completion of each step,\n",
              "// then passes the result of the previous step as the input to the next step.\n",
              "function _uploadFilesContinue(outputId) {\n",
              "  const outputElement = document.getElementById(outputId);\n",
              "  const steps = outputElement.steps;\n",
              "\n",
              "  const next = steps.next(outputElement.lastPromiseValue);\n",
              "  return Promise.resolve(next.value.promise).then((value) => {\n",
              "    // Cache the last promise value to make it available to the next\n",
              "    // step of the generator.\n",
              "    outputElement.lastPromiseValue = value;\n",
              "    return next.value.response;\n",
              "  });\n",
              "}\n",
              "\n",
              "/**\n",
              " * Generator function which is called between each async step of the upload\n",
              " * process.\n",
              " * @param {string} inputId Element ID of the input file picker element.\n",
              " * @param {string} outputId Element ID of the output display.\n",
              " * @return {!Iterable<!Object>} Iterable of next steps.\n",
              " */\n",
              "function* uploadFilesStep(inputId, outputId) {\n",
              "  const inputElement = document.getElementById(inputId);\n",
              "  inputElement.disabled = false;\n",
              "\n",
              "  const outputElement = document.getElementById(outputId);\n",
              "  outputElement.innerHTML = '';\n",
              "\n",
              "  const pickedPromise = new Promise((resolve) => {\n",
              "    inputElement.addEventListener('change', (e) => {\n",
              "      resolve(e.target.files);\n",
              "    });\n",
              "  });\n",
              "\n",
              "  const cancel = document.createElement('button');\n",
              "  inputElement.parentElement.appendChild(cancel);\n",
              "  cancel.textContent = 'Cancel upload';\n",
              "  const cancelPromise = new Promise((resolve) => {\n",
              "    cancel.onclick = () => {\n",
              "      resolve(null);\n",
              "    };\n",
              "  });\n",
              "\n",
              "  // Wait for the user to pick the files.\n",
              "  const files = yield {\n",
              "    promise: Promise.race([pickedPromise, cancelPromise]),\n",
              "    response: {\n",
              "      action: 'starting',\n",
              "    }\n",
              "  };\n",
              "\n",
              "  cancel.remove();\n",
              "\n",
              "  // Disable the input element since further picks are not allowed.\n",
              "  inputElement.disabled = true;\n",
              "\n",
              "  if (!files) {\n",
              "    return {\n",
              "      response: {\n",
              "        action: 'complete',\n",
              "      }\n",
              "    };\n",
              "  }\n",
              "\n",
              "  for (const file of files) {\n",
              "    const li = document.createElement('li');\n",
              "    li.append(span(file.name, {fontWeight: 'bold'}));\n",
              "    li.append(span(\n",
              "        `(${file.type || 'n/a'}) - ${file.size} bytes, ` +\n",
              "        `last modified: ${\n",
              "            file.lastModifiedDate ? file.lastModifiedDate.toLocaleDateString() :\n",
              "                                    'n/a'} - `));\n",
              "    const percent = span('0% done');\n",
              "    li.appendChild(percent);\n",
              "\n",
              "    outputElement.appendChild(li);\n",
              "\n",
              "    const fileDataPromise = new Promise((resolve) => {\n",
              "      const reader = new FileReader();\n",
              "      reader.onload = (e) => {\n",
              "        resolve(e.target.result);\n",
              "      };\n",
              "      reader.readAsArrayBuffer(file);\n",
              "    });\n",
              "    // Wait for the data to be ready.\n",
              "    let fileData = yield {\n",
              "      promise: fileDataPromise,\n",
              "      response: {\n",
              "        action: 'continue',\n",
              "      }\n",
              "    };\n",
              "\n",
              "    // Use a chunked sending to avoid message size limits. See b/62115660.\n",
              "    let position = 0;\n",
              "    do {\n",
              "      const length = Math.min(fileData.byteLength - position, MAX_PAYLOAD_SIZE);\n",
              "      const chunk = new Uint8Array(fileData, position, length);\n",
              "      position += length;\n",
              "\n",
              "      const base64 = btoa(String.fromCharCode.apply(null, chunk));\n",
              "      yield {\n",
              "        response: {\n",
              "          action: 'append',\n",
              "          file: file.name,\n",
              "          data: base64,\n",
              "        },\n",
              "      };\n",
              "\n",
              "      let percentDone = fileData.byteLength === 0 ?\n",
              "          100 :\n",
              "          Math.round((position / fileData.byteLength) * 100);\n",
              "      percent.textContent = `${percentDone}% done`;\n",
              "\n",
              "    } while (position < fileData.byteLength);\n",
              "  }\n",
              "\n",
              "  // All done.\n",
              "  yield {\n",
              "    response: {\n",
              "      action: 'complete',\n",
              "    }\n",
              "  };\n",
              "}\n",
              "\n",
              "scope.google = scope.google || {};\n",
              "scope.google.colab = scope.google.colab || {};\n",
              "scope.google.colab._files = {\n",
              "  _uploadFiles,\n",
              "  _uploadFilesContinue,\n",
              "};\n",
              "})(self);\n",
              "</script> "
            ]
          },
          "metadata": {}
        },
        {
          "output_type": "stream",
          "name": "stdout",
          "text": [
            "Saving probesh_mockdata.csv to probesh_mockdata.csv\n"
          ]
        },
        {
          "output_type": "execute_result",
          "data": {
            "text/plain": [
              "{'probesh_mockdata.csv': b\"Student_id,Student_Name,Subject,Score,Attendance_Percentage,Assignment_Completion\\n1,Nolana Serris,Support,70,99,false\\n2,Matthias Poundford,Business Development,84,86,false\\n3,Vonnie Brookwell,Marketing,73,96,false\\n4,Christabel Lamers,Sales,77,55,false\\n5,Devlen Mizzi,Engineering,67,84,false\\n6,Timmy Grevel,Product Management,88,80,true\\n7,Lek Twyford,Business Development,77,53,true\\n8,Barry Allmond,Business Development,97,70,false\\n9,Ingram Bassingden,Research and Development,63,71,false\\n10,Alden Habbema,Training,86,75,true\\n11,Wait Dearness,Services,83,90,false\\n12,Lowrance Ledwich,Human Resources,95,81,true\\n13,Wilburt Tolley,Sales,62,44,true\\n14,Aldo Cowpland,Product Management,60,50,false\\n15,Grethel Chable,Business Development,61,69,false\\n16,Letti MacNamee,Engineering,80,86,false\\n17,Pierre Kennermann,Accounting,61,61,false\\n18,Gleda Aikman,Engineering,91,45,false\\n19,Shannen Walford,Research and Development,91,58,true\\n20,Shay Fancy,Research and Development,98,62,false\\n21,Newton Goldstraw,Product Management,65,94,false\\n22,Mireielle Clawley,Marketing,62,61,true\\n23,Elie Demangeon,Training,63,99,true\\n24,Corie Budgett,Accounting,67,67,false\\n25,Grazia Gotfrey,Services,93,43,false\\n26,Lu Purches,Support,74,48,false\\n27,Gretchen Stegers,Product Management,65,68,false\\n28,Ottilie Manlow,Marketing,96,63,false\\n29,Gilbertine Heard,Sales,98,66,false\\n30,Katlin Iacomelli,Legal,84,78,false\\n31,Hy Ferrier,Services,74,51,false\\n32,Constantin Murby,Engineering,89,67,false\\n33,Sterne Kerford,Accounting,87,55,false\\n34,Batholomew Wellum,Research and Development,78,56,false\\n35,Harrietta Yaxley,Human Resources,97,88,true\\n36,Rodolphe Pauleau,Business Development,78,40,true\\n37,Arabelle Lapham,Services,87,81,false\\n38,Lotti Tollfree,Engineering,90,40,false\\n39,Lucien Voak,Business Development,65,67,false\\n40,Camille Goodinson,Product Management,76,56,true\\n41,Randolf Ismead,Human Resources,78,85,true\\n42,Verile Sebring,Engineering,99,62,false\\n43,Cathlene Woolrich,Product Management,61,41,false\\n44,Nichols Katte,Support,63,43,true\\n45,Sutherlan Bruyns,Product Management,76,40,true\\n46,Elianora Freckingham,Marketing,60,95,false\\n47,Rosina Severn,Engineering,61,71,true\\n48,Shandeigh Bootes,Product Management,100,87,false\\n49,Shoshana Yeates,Services,78,95,true\\n50,Lillis Beevens,Business Development,73,49,true\\n51,Rutter Pain,Research and Development,82,62,true\\n52,Thain Mullen,Engineering,77,68,true\\n53,Goldie Costanza,Sales,81,59,true\\n54,Any Ackred,Research and Development,83,99,true\\n55,Britney Shovlar,Product Management,84,42,true\\n56,Harriet Packer,Marketing,92,54,true\\n57,Marie-ann Battson,Research and Development,62,50,false\\n58,Micah Lydiard,Product Management,87,93,false\\n59,Quintus Penwright,Sales,75,81,true\\n60,Hunt Arrowsmith,Accounting,78,67,false\\n61,Ginni Seath,Product Management,73,79,true\\n62,Ilyse Blackway,Support,74,80,false\\n63,Ham Redihalgh,Product Management,86,50,false\\n64,Heriberto Fieldsend,Support,92,45,true\\n65,Tiler Dictus,Product Management,95,56,true\\n66,Gilbertine Joss,Legal,61,59,true\\n67,Elsy Cullerne,Support,66,74,false\\n68,Bucky Dady,Human Resources,95,52,false\\n69,Saundra Crippill,Support,90,48,true\\n70,Rosana Duggan,Legal,74,98,false\\n71,Alair Leil,Sales,99,81,false\\n72,Berni McGhee,Sales,91,43,false\\n73,Tybalt Inglish,Services,99,46,true\\n74,Marty Hoggetts,Services,90,91,false\\n75,Kerrie Janik,Research and Development,96,73,false\\n76,Cathryn Minghella,Human Resources,90,60,false\\n77,Cordey Counsell,Human Resources,84,43,true\\n78,Pierson Maggs,Services,90,97,false\\n79,Lissie Phizacklea,Human Resources,97,45,false\\n80,Galen Clail,Research and Development,90,97,false\\n81,Fonz Crookston,Business Development,81,100,false\\n82,Cassondra Aldrich,Training,63,85,false\\n83,Verene Guillem,Research and Development,89,76,false\\n84,Heall Rabbitt,Support,76,40,false\\n85,Say Castagnaro,Training,69,66,true\\n86,Gretta Sprade,Marketing,71,73,false\\n87,Corrinne ducarme,Product Management,89,84,true\\n88,Madeleine Tesh,Legal,91,92,false\\n89,Nat Toxell,Legal,62,59,true\\n90,Ethelbert Shead,Training,74,88,true\\n91,Brandy Fellibrand,Research and Development,89,51,true\\n92,Georas Macartney,Human Resources,77,64,true\\n93,Niki Lyons,Sales,88,75,false\\n94,Milton Fruser,Business Development,60,81,true\\n95,Dorolisa Back,Services,67,78,true\\n96,Paten Rosina,Marketing,98,82,true\\n97,Beth Jacks,Engineering,72,86,false\\n98,Tabina Dysert,Engineering,83,55,true\\n99,Lucien Lawland,Marketing,72,87,true\\n100,Ase Dorber,Support,86,76,true\\n101,Udale Demonge,Training,73,90,true\\n102,Rosalinde Rome,Services,70,73,true\\n103,Pauly Drakes,Research and Development,78,54,false\\n104,Ariana Elsley,Training,69,56,false\\n105,Myrtia Duiged,Support,71,46,true\\n106,Marilee Goosnell,Engineering,84,41,false\\n107,Cammie Picford,Product Management,85,83,false\\n108,Granville Simionescu,Business Development,78,79,false\\n109,Shandy Gaythwaite,Product Management,63,75,true\\n110,Nobe Jagg,Services,72,97,false\\n111,Jolee Philippet,Human Resources,73,66,true\\n112,Lemmy Heinzel,Research and Development,67,94,true\\n113,Elvis Drust,Accounting,87,70,false\\n114,Theodor Whorall,Engineering,91,80,false\\n115,David Ilymanov,Support,93,77,true\\n116,Lavina Wetherby,Accounting,75,50,true\\n117,Erminie Berthouloume,Accounting,69,80,true\\n118,Lulita Millard,Research and Development,72,79,true\\n119,Adolphe Stalman,Services,80,46,true\\n120,Tera Pietraszek,Training,71,66,false\\n121,Kori Skully,Human Resources,83,66,true\\n122,Olva Gerrad,Research and Development,70,66,false\\n123,Louisa Crunkhurn,Services,67,81,false\\n124,Di Godsil,Services,70,91,false\\n125,Dunstan Cossar,Services,74,44,true\\n126,Hugh Jellico,Business Development,84,74,true\\n127,Kathryn Goodspeed,Human Resources,61,88,false\\n128,Hirsch Sjollema,Legal,79,76,false\\n129,Ethelind Longden,Legal,84,65,false\\n130,Maryl Collcutt,Training,97,67,false\\n131,Berny Crinion,Product Management,81,42,true\\n132,Mozes Van der Spohr,Accounting,97,71,false\\n133,Abba Luppitt,Legal,85,70,false\\n134,Sallee Locock,Human Resources,69,47,true\\n135,Stefa Dignon,Sales,98,56,false\\n136,Dena Schuricke,Services,75,89,false\\n137,Hattie Franssen,Accounting,91,78,false\\n138,Leodora Antosch,Legal,95,85,false\\n139,Demetria Yate,Accounting,72,89,true\\n140,Mal Dametti,Marketing,98,79,false\\n141,Danella Damp,Legal,75,49,true\\n142,Cornall McLugaish,Marketing,73,59,false\\n143,Lib Spacie,Marketing,76,63,true\\n144,Melina Chaffe,Research and Development,79,80,true\\n145,Ganny Landon,Services,61,68,false\\n146,Sean Renault,Marketing,75,52,true\\n147,Donny Hammer,Business Development,96,49,true\\n148,Goober Lundbeck,Business Development,78,96,true\\n149,Fredia Howley,Accounting,98,73,true\\n150,Priscella Bowry,Support,97,58,true\\n151,Sonny Eddow,Accounting,75,67,false\\n152,Delano Shaddock,Marketing,66,54,true\\n153,Nichole Flaune,Training,67,79,false\\n154,Othilie Houseman,Research and Development,87,55,false\\n155,Jamal Volant,Marketing,65,87,true\\n156,Stearne Askin,Engineering,68,75,false\\n157,Marysa Spatari,Training,96,82,true\\n158,Amabelle Wogden,Accounting,94,79,false\\n159,Goober Crome,Marketing,99,92,false\\n160,Earlie Riggs,Research and Development,71,68,true\\n161,Anjela Ferry,Services,79,69,false\\n162,Aaren Botwright,Engineering,71,53,false\\n163,Babita Fassan,Legal,92,99,true\\n164,Didi Owtram,Product Management,68,66,true\\n165,Clay Youtead,Training,64,86,true\\n166,Jerrilee Burnes,Marketing,67,50,false\\n167,Christye McGrale,Marketing,76,50,true\\n168,Dalia Feldharker,Engineering,96,97,false\\n169,Hale McSharry,Engineering,71,94,true\\n170,Germaine Landsman,Training,81,67,true\\n171,Wendye Mazin,Services,93,57,true\\n172,Yvor Hartlebury,Sales,77,98,true\\n173,Marni Spriggen,Engineering,99,66,false\\n174,Jeanna Dodle,Sales,69,92,false\\n175,Dewie O' Dornan,Sales,67,99,false\\n176,Byrom Sadgrove,Services,88,88,true\\n177,Susy Lowrey,Sales,69,86,false\\n178,Abbott Ketteringham,Engineering,96,60,false\\n179,Mendie Zaniolo,Engineering,84,67,true\\n180,Swen Eckhard,Accounting,92,68,false\\n181,Karl Codd,Research and Development,61,61,true\\n182,Hillery Putson,Marketing,61,59,true\\n183,Theodor Mumberson,Services,70,99,true\\n184,Loria Simper,Accounting,93,69,false\\n185,Vikky Klishin,Services,79,54,true\\n186,Catie Inglesant,Business Development,61,52,false\\n187,Bernardo Hawkey,Business Development,80,71,true\\n188,Hedvige Raddenbury,Training,87,94,false\\n189,Kessiah Canadas,Support,66,45,false\\n190,Geri Beldham,Support,69,99,true\\n191,Christen Anyene,Accounting,87,41,true\\n192,Flora Burgill,Training,83,40,true\\n193,Waverley Danels,Product Management,93,77,false\\n194,Charmaine Light,Research and Development,86,94,false\\n195,Novelia Bearham,Business Development,71,72,true\\n196,Ebony McLaren,Human Resources,80,68,true\\n197,Sargent Skirling,Services,77,90,true\\n198,Andrea Ainslee,Human Resources,85,79,false\\n199,Shelbi Rawcliffe,Engineering,89,76,false\\n200,Tamiko Houndsom,Human Resources,73,67,true\\n201,Lindy Duker,Product Management,96,67,false\\n202,Kipper Twitchett,Research and Development,71,92,false\\n203,Cati Crosi,Legal,66,42,true\\n204,Glynnis Bernardon,Training,65,66,true\\n205,Clyde Ivanyukov,Marketing,86,65,false\\n206,Davy Dumbarton,Legal,99,62,false\\n207,Alleyn Vaughten,Services,96,53,false\\n208,Malcolm Berkery,Support,68,59,false\\n209,Winfred Kassidy,Sales,77,46,false\\n210,Fayina Axcell,Training,97,63,true\\n211,Jacqui Laingmaid,Business Development,78,99,false\\n212,Gillan Hizir,Human Resources,77,58,false\\n213,Franchot O'Dempsey,Accounting,84,83,false\\n214,Emmalee Cardenas,Support,68,45,true\\n215,Lotty Wibberley,Accounting,77,52,true\\n216,Elizabet McArdell,Training,71,53,true\\n217,Nicolis Legion,Business Development,66,67,true\\n218,Jesus Oppery,Human Resources,65,79,false\\n219,Ezri Brassington,Product Management,97,95,false\\n220,Melba Willbourne,Support,60,72,true\\n221,Goran Nund,Business Development,68,78,false\\n222,Murdoch Castelin,Research and Development,64,83,true\\n223,Deonne Bullock,Legal,70,44,false\\n224,Leontyne Santry,Training,72,54,true\\n225,Ludovico Bollon,Product Management,87,95,false\\n226,Arvie MacSporran,Engineering,99,70,false\\n227,Olwen Beushaw,Sales,89,51,false\\n228,Thia Collyns,Training,96,57,true\\n229,Ahmad Garthland,Engineering,60,51,true\\n230,Burke Merriment,Accounting,73,75,false\\n231,Leticia Jaan,Human Resources,80,40,false\\n232,Misha Kinloch,Product Management,84,100,true\\n233,Vincenty Carde,Services,99,59,false\\n234,Cherry Pandey,Research and Development,91,63,false\\n235,Ashlee Petrol,Marketing,62,54,false\\n236,Pierrette Stoffler,Accounting,65,98,false\\n237,Aundrea Mates,Services,91,47,false\\n238,Bari Gennings,Legal,72,74,true\\n239,Rudolf Karpeev,Marketing,94,57,false\\n240,Athene Cars,Support,66,61,true\\n241,Arliene Dutt,Engineering,66,72,true\\n242,Giffard Bridgement,Engineering,100,85,false\\n243,Morey Dinesen,Product Management,95,67,true\\n244,Ines Manske,Training,92,86,false\\n245,Tito Poleye,Support,86,77,false\\n246,Ertha Baseke,Research and Development,76,73,true\\n247,Gallagher Fomichyov,Product Management,61,56,false\\n248,Nicola Souten,Engineering,71,94,true\\n249,Coreen Learoyde,Human Resources,63,80,false\\n250,Jonathon Esley,Sales,83,100,true\\n251,Sarina Mitrikhin,Sales,77,58,false\\n252,Boone Legen,Business Development,77,68,false\\n253,Tiffany Necolds,Services,70,58,true\\n254,Silvana Slocom,Marketing,98,50,false\\n255,Peyter Cayette,Engineering,94,87,false\\n256,Hillel Walcar,Engineering,80,52,false\\n257,Germain Roomes,Services,72,76,false\\n258,Kiri Python,Sales,78,85,false\\n259,Sallyanne Joskowicz,Marketing,72,58,true\\n260,Ramon Appleton,Training,61,89,true\\n261,Arel Budget,Product Management,83,58,false\\n262,Christina Facey,Legal,80,53,false\\n263,Bibi Lasham,Human Resources,69,73,false\\n264,Brant Dunsford,Support,74,56,true\\n265,Kiersten Vautre,Human Resources,90,93,false\\n266,Alfred Poznanski,Accounting,61,62,true\\n267,Dorena Dalrymple,Human Resources,65,61,false\\n268,Jeramey Blucher,Engineering,93,76,false\\n269,Skipp Petow,Support,65,83,true\\n270,Craggy Pipworth,Services,92,100,true\\n271,Rouvin Grunnell,Sales,74,76,false\\n272,Bat Fanning,Human Resources,63,78,true\\n273,Ardeen Catterill,Services,81,87,false\\n274,Kellen Vokes,Legal,95,43,false\\n275,Becka Paulusch,Legal,61,79,false\\n276,Vivien Foxen,Sales,86,71,true\\n277,Terrye Da Costa,Training,78,94,false\\n278,Dorree Wabersinke,Sales,88,90,false\\n279,Paloma Gallop,Product Management,76,99,true\\n280,Christophorus Leyband,Support,91,72,true\\n281,Dame Whight,Support,66,46,false\\n282,Ayn Nehlsen,Training,90,55,true\\n283,Barbette Goschalk,Services,73,49,true\\n284,Ryan Lawless,Legal,62,49,true\\n285,Alika Quarrell,Legal,82,84,true\\n286,Stace Tixier,Training,85,82,true\\n287,Olia Stapforth,Legal,90,81,false\\n288,Antin Twigge,Research and Development,69,50,true\\n289,Roxine Yeatman,Accounting,72,89,true\\n290,Sheppard Gelland,Legal,81,57,false\\n291,Roseanna Croughan,Sales,82,79,true\\n292,Pennie Campe,Support,93,50,false\\n293,Dianne Fuidge,Legal,85,44,true\\n294,Felike Nevin,Training,76,66,false\\n295,Emile Morgon,Legal,91,74,false\\n296,Franky Brinkman,Support,81,56,true\\n297,Melesa Brookshaw,Accounting,99,55,true\\n298,Patton Brindle,Product Management,74,90,true\\n299,Alice Ridesdale,Marketing,74,44,false\\n300,Nate Spyvye,Support,89,60,true\\n301,Silvana Vasentsov,Research and Development,74,44,true\\n302,Sanders Dewan,Support,73,57,true\\n303,Alyce Reiners,Support,67,88,true\\n304,Sara Spiers,Product Management,86,69,false\\n305,Hillier Ozanne,Support,95,90,true\\n306,Lara Braz,Support,61,43,false\\n307,Debbi Watkiss,Business Development,88,86,true\\n308,Hamid Grigorini,Business Development,79,73,true\\n309,Meris Crocetto,Sales,92,66,true\\n310,Marcille Tregona,Human Resources,74,83,true\\n311,Marget Ludl,Research and Development,79,55,false\\n312,Colby Woolvin,Support,91,86,true\\n313,Evangelina Ransfield,Research and Development,100,69,false\\n314,Nolana Myton,Sales,90,90,true\\n315,Vince Chark,Human Resources,82,99,false\\n316,Everard Balser,Training,86,67,false\\n317,Kirby Bassingham,Services,75,90,true\\n318,Eldredge Knowler,Sales,77,100,false\\n319,Bernadine Corona,Marketing,81,59,false\\n320,Zach Abyss,Support,92,49,false\\n321,Loise Attewill,Services,61,83,true\\n322,Doralyn Finlow,Engineering,87,71,false\\n323,Esra Mallon,Product Management,81,67,false\\n324,Konstance Daffern,Training,71,82,false\\n325,Emera Titchener,Legal,63,59,true\\n326,Filmer Epine,Human Resources,93,88,false\\n327,Paulie Hickford,Services,62,61,true\\n328,Ricca Malmar,Marketing,99,74,true\\n329,Nesta Pleager,Research and Development,71,79,false\\n330,Celka Pinfold,Sales,88,42,false\\n331,Janeva Forsbey,Engineering,91,69,true\\n332,Kamilah Van der Velde,Sales,78,59,true\\n333,Ivory Canfer,Sales,64,70,false\\n334,Rheba Duns,Human Resources,78,88,false\\n335,Noah Nekrews,Training,94,100,false\\n336,Melessa Gosnall,Engineering,86,46,true\\n337,Roley Tokell,Human Resources,75,64,false\\n338,Robin Dutnell,Training,94,92,false\\n339,Othilia Lusk,Legal,81,98,false\\n340,Jeanie Maskew,Legal,89,58,true\\n341,Kristoffer Harbach,Training,60,48,false\\n342,Christoper Toxell,Engineering,61,75,true\\n343,Kiel Birt,Legal,90,74,false\\n344,Redd Mayhew,Legal,60,46,false\\n345,Moises Gooke,Business Development,97,84,true\\n346,Katuscha Bowers,Training,87,41,false\\n347,Ciro Trebilcock,Human Resources,74,96,true\\n348,Nesta Domoni,Services,76,71,false\\n349,Sasha Rodgerson,Marketing,97,78,false\\n350,Henri Klarzynski,Research and Development,91,82,false\\n351,Cherise Mouncey,Support,98,86,false\\n352,Tracie Custance,Training,84,74,true\\n353,Tyson Brumpton,Support,99,68,true\\n354,Irwinn Feye,Research and Development,93,77,true\\n355,Nick Iacoboni,Research and Development,83,51,false\\n356,Margarita Wackley,Business Development,65,81,true\\n357,Sandi Schuh,Engineering,100,81,false\\n358,Salvador Whelpdale,Legal,72,95,true\\n359,Benny Darcey,Training,74,99,false\\n360,Leontyne Veldstra,Services,72,71,false\\n361,Joletta Bray,Accounting,60,40,true\\n362,Nancy Keedy,Training,60,51,true\\n363,Margarete Flowith,Legal,70,46,true\\n364,Nina Hallyburton,Services,91,66,true\\n365,Lauri Brehat,Engineering,89,75,false\\n366,Lowell Jammet,Engineering,73,40,true\\n367,Corabel La Rosa,Legal,87,85,true\\n368,Bond Saltman,Services,67,97,false\\n369,Ardeen Aleswell,Services,90,44,false\\n370,Uta Copeman,Marketing,60,100,false\\n371,Vicky Kivell,Services,76,95,true\\n372,Nevins McCaughen,Services,78,57,true\\n373,Luis Cuttin,Marketing,80,89,false\\n374,Trixie Camoys,Product Management,86,65,true\\n375,Mariana McQuin,Business Development,78,97,false\\n376,Mic Posse,Support,72,96,true\\n377,Burty Burnell,Services,71,61,true\\n378,Berte Caukill,Research and Development,89,95,true\\n379,Lance Laslett,Accounting,92,41,false\\n380,Cherin Irving,Product Management,80,43,true\\n381,Xerxes Fairweather,Accounting,75,49,false\\n382,Rudolph Sackur,Business Development,87,88,false\\n383,Lacee Podmore,Human Resources,72,97,true\\n384,Damara Marjoribanks,Research and Development,96,83,true\\n385,Worthy Kellick,Product Management,94,96,false\\n386,Eada Layson,Research and Development,73,77,false\\n387,Rosetta Hurdidge,Research and Development,82,58,false\\n388,Butch Gisborne,Legal,61,75,true\\n389,Harris Bainbrigge,Training,85,83,true\\n390,Kalina Beardsdale,Support,65,59,true\\n391,Gretna Mokes,Accounting,74,83,true\\n392,Barr Buffy,Research and Development,72,95,false\\n393,Hedvige Greve,Business Development,79,85,true\\n394,Wynny Drowsfield,Business Development,95,76,false\\n395,Husain Woodall,Services,60,57,false\\n396,Dannie Henzer,Accounting,97,70,false\\n397,Chevy Harrismith,Services,95,50,true\\n398,Holly Phillips,Marketing,76,62,true\\n399,Halie Rodrig,Accounting,93,81,true\\n400,Vitoria Bingle,Marketing,73,95,false\\n401,Garold Imos,Marketing,84,80,true\\n402,Boonie Hadye,Marketing,94,57,true\\n403,Jade Bodle,Accounting,75,78,false\\n404,Monica Slocomb,Business Development,66,79,false\\n405,Bron Polotti,Accounting,86,83,true\\n406,Sanders Pirie,Legal,88,52,false\\n407,Lucila Ethridge,Product Management,95,78,true\\n408,Krystyna Irvin,Sales,82,96,false\\n409,Fidela Duran,Legal,74,86,false\\n410,Myrtie Vern,Human Resources,69,88,false\\n411,Lauraine Sabin,Marketing,94,100,false\\n412,Trueman Jablonski,Engineering,88,100,true\\n413,Massimiliano Mousley,Engineering,69,97,false\\n414,Chester Solman,Engineering,94,89,true\\n415,Audrey Orme,Legal,96,97,false\\n416,Selle Rumbold,Support,98,64,false\\n417,Adelbert Debrett,Sales,75,52,false\\n418,Loni Sisneros,Product Management,71,96,true\\n419,Charlena Dimelow,Legal,79,94,true\\n420,Shanna Salsberg,Accounting,73,51,false\\n421,Amii Kydde,Legal,68,69,false\\n422,Zara Jukubczak,Legal,93,55,true\\n423,Lyman Carr,Research and Development,89,75,false\\n424,Nadine Pirt,Training,60,53,false\\n425,Nissie Farahar,Training,69,63,true\\n426,Jerri Ludewig,Human Resources,89,42,true\\n427,Randi Redparth,Services,60,83,true\\n428,Alexandre O'Luby,Human Resources,95,61,true\\n429,Farly Tomczykowski,Services,71,85,true\\n430,Jim Nuss,Accounting,74,61,false\\n431,Cassey Mackro,Product Management,77,50,false\\n432,Gaston Stronough,Services,72,42,false\\n433,Fabian Rowcastle,Marketing,94,65,false\\n434,Dacy Walkey,Sales,89,56,true\\n435,Asher Pavlik,Sales,77,81,true\\n436,Mella Kidder,Human Resources,62,70,true\\n437,Granville Crimmins,Accounting,61,100,false\\n438,Baxter Ren,Accounting,83,86,false\\n439,Thorsten Ferrao,Business Development,72,95,true\\n440,Remington Matyugin,Sales,68,63,false\\n441,Eldin Monshall,Accounting,95,95,true\\n442,Janette Voisey,Business Development,67,69,true\\n443,Ansell Fallanche,Human Resources,74,80,false\\n444,Maressa Hendrick,Accounting,79,68,true\\n445,Fan Sickling,Training,96,91,false\\n446,Lorrie Gerren,Training,98,75,true\\n447,Earlie Judkin,Business Development,63,64,true\\n448,Aron Scotchmore,Engineering,88,84,true\\n449,Manolo Krochmann,Legal,80,58,true\\n450,Robby Christensen,Sales,66,58,true\\n451,Zoe Dunkerly,Research and Development,86,86,true\\n452,Rozanne Valdes,Legal,94,53,true\\n453,Giacinta Basey,Training,71,69,true\\n454,Justus Duerden,Legal,88,100,false\\n455,Gradey Cherry Holme,Support,86,96,true\\n456,Inna Miles,Marketing,91,70,true\\n457,Chilton Meek,Accounting,95,41,true\\n458,Carleton Basden,Legal,61,44,false\\n459,Sibeal Howis,Human Resources,81,82,true\\n460,Gorden Le Noury,Services,68,63,false\\n461,Marijn Abeau,Sales,63,83,false\\n462,Barney Crasswell,Support,98,43,false\\n463,Tara Creed,Legal,91,53,false\\n464,Clari Mawd,Training,85,40,false\\n465,Costanza Lutwyche,Support,87,80,false\\n466,Odey Matyashev,Support,69,87,true\\n467,Dory Semon,Research and Development,85,69,true\\n468,Betsey Coulthard,Legal,79,61,true\\n469,Reeba June,Sales,93,94,false\\n470,Nichole Bangley,Training,62,80,false\\n471,Honey Gildersleaves,Sales,76,85,false\\n472,La verne Lashmore,Sales,75,92,false\\n473,Scottie Lebbon,Product Management,65,92,false\\n474,Claudie Renzo,Research and Development,74,81,false\\n475,Annissa Wilding,Training,95,58,false\\n476,Ara Bamford,Accounting,62,92,false\\n477,Kiersten Jacobssen,Support,85,93,false\\n478,Ardeen Kirgan,Services,60,95,false\\n479,Mac Whiff,Support,81,90,true\\n480,Kipper Verzey,Human Resources,99,91,true\\n481,Kathie Nussen,Business Development,88,50,false\\n482,Bettina Kaplan,Sales,92,76,false\\n483,Heda Wingatt,Engineering,78,80,true\\n484,Dyna Ticehurst,Business Development,80,53,true\\n485,Ives Hawkshaw,Services,66,87,false\\n486,Elinor Dent,Business Development,86,74,false\\n487,Guthrey Atrill,Support,64,91,false\\n488,Mufi Doogood,Marketing,91,56,true\\n489,Kippar Turmell,Sales,90,55,true\\n490,Amos Munton,Training,67,69,false\\n491,Dredi Metzing,Human Resources,73,97,false\\n492,Rivalee Deighan,Legal,77,41,true\\n493,Fredia Youthed,Engineering,80,40,false\\n494,Fredra Surplice,Marketing,61,65,false\\n495,Karalynn Hannum,Business Development,99,61,true\\n496,Jillane Willshaw,Accounting,85,76,false\\n497,Clayborne Kosiada,Human Resources,92,90,false\\n498,Valentin Pescud,Support,74,89,true\\n499,Missy Reuben,Sales,82,45,true\\n500,Marjie Scinelli,Human Resources,62,64,false\\n\"}"
            ]
          },
          "metadata": {},
          "execution_count": 1
        }
      ]
    },
    {
      "cell_type": "code",
      "source": [
        "import pandas as pd\n",
        "df = pd.read_csv('/content/probesh_mockdata.csv')"
      ],
      "metadata": {
        "id": "3PN82hiFNFSu"
      },
      "execution_count": null,
      "outputs": []
    },
    {
      "cell_type": "code",
      "source": [
        "df.head()"
      ],
      "metadata": {
        "colab": {
          "base_uri": "https://localhost:8080/",
          "height": 206
        },
        "id": "JahPY8DENRNH",
        "outputId": "280b1c27-025d-4a2d-a113-7e293e3ced02"
      },
      "execution_count": null,
      "outputs": [
        {
          "output_type": "execute_result",
          "data": {
            "text/plain": [
              "   Student_id        Student_Name               Subject  Score  \\\n",
              "0           1       Nolana Serris               Support     70   \n",
              "1           2  Matthias Poundford  Business Development     84   \n",
              "2           3    Vonnie Brookwell             Marketing     73   \n",
              "3           4   Christabel Lamers                 Sales     77   \n",
              "4           5        Devlen Mizzi           Engineering     67   \n",
              "\n",
              "   Attendance_Percentage  Assignment_Completion  \n",
              "0                     99                  False  \n",
              "1                     86                  False  \n",
              "2                     96                  False  \n",
              "3                     55                  False  \n",
              "4                     84                  False  "
            ],
            "text/html": [
              "\n",
              "  <div id=\"df-092af7cf-59e5-46e4-8e2d-d11d545ec243\" class=\"colab-df-container\">\n",
              "    <div>\n",
              "<style scoped>\n",
              "    .dataframe tbody tr th:only-of-type {\n",
              "        vertical-align: middle;\n",
              "    }\n",
              "\n",
              "    .dataframe tbody tr th {\n",
              "        vertical-align: top;\n",
              "    }\n",
              "\n",
              "    .dataframe thead th {\n",
              "        text-align: right;\n",
              "    }\n",
              "</style>\n",
              "<table border=\"1\" class=\"dataframe\">\n",
              "  <thead>\n",
              "    <tr style=\"text-align: right;\">\n",
              "      <th></th>\n",
              "      <th>Student_id</th>\n",
              "      <th>Student_Name</th>\n",
              "      <th>Subject</th>\n",
              "      <th>Score</th>\n",
              "      <th>Attendance_Percentage</th>\n",
              "      <th>Assignment_Completion</th>\n",
              "    </tr>\n",
              "  </thead>\n",
              "  <tbody>\n",
              "    <tr>\n",
              "      <th>0</th>\n",
              "      <td>1</td>\n",
              "      <td>Nolana Serris</td>\n",
              "      <td>Support</td>\n",
              "      <td>70</td>\n",
              "      <td>99</td>\n",
              "      <td>False</td>\n",
              "    </tr>\n",
              "    <tr>\n",
              "      <th>1</th>\n",
              "      <td>2</td>\n",
              "      <td>Matthias Poundford</td>\n",
              "      <td>Business Development</td>\n",
              "      <td>84</td>\n",
              "      <td>86</td>\n",
              "      <td>False</td>\n",
              "    </tr>\n",
              "    <tr>\n",
              "      <th>2</th>\n",
              "      <td>3</td>\n",
              "      <td>Vonnie Brookwell</td>\n",
              "      <td>Marketing</td>\n",
              "      <td>73</td>\n",
              "      <td>96</td>\n",
              "      <td>False</td>\n",
              "    </tr>\n",
              "    <tr>\n",
              "      <th>3</th>\n",
              "      <td>4</td>\n",
              "      <td>Christabel Lamers</td>\n",
              "      <td>Sales</td>\n",
              "      <td>77</td>\n",
              "      <td>55</td>\n",
              "      <td>False</td>\n",
              "    </tr>\n",
              "    <tr>\n",
              "      <th>4</th>\n",
              "      <td>5</td>\n",
              "      <td>Devlen Mizzi</td>\n",
              "      <td>Engineering</td>\n",
              "      <td>67</td>\n",
              "      <td>84</td>\n",
              "      <td>False</td>\n",
              "    </tr>\n",
              "  </tbody>\n",
              "</table>\n",
              "</div>\n",
              "    <div class=\"colab-df-buttons\">\n",
              "\n",
              "  <div class=\"colab-df-container\">\n",
              "    <button class=\"colab-df-convert\" onclick=\"convertToInteractive('df-092af7cf-59e5-46e4-8e2d-d11d545ec243')\"\n",
              "            title=\"Convert this dataframe to an interactive table.\"\n",
              "            style=\"display:none;\">\n",
              "\n",
              "  <svg xmlns=\"http://www.w3.org/2000/svg\" height=\"24px\" viewBox=\"0 -960 960 960\">\n",
              "    <path d=\"M120-120v-720h720v720H120Zm60-500h600v-160H180v160Zm220 220h160v-160H400v160Zm0 220h160v-160H400v160ZM180-400h160v-160H180v160Zm440 0h160v-160H620v160ZM180-180h160v-160H180v160Zm440 0h160v-160H620v160Z\"/>\n",
              "  </svg>\n",
              "    </button>\n",
              "\n",
              "  <style>\n",
              "    .colab-df-container {\n",
              "      display:flex;\n",
              "      gap: 12px;\n",
              "    }\n",
              "\n",
              "    .colab-df-convert {\n",
              "      background-color: #E8F0FE;\n",
              "      border: none;\n",
              "      border-radius: 50%;\n",
              "      cursor: pointer;\n",
              "      display: none;\n",
              "      fill: #1967D2;\n",
              "      height: 32px;\n",
              "      padding: 0 0 0 0;\n",
              "      width: 32px;\n",
              "    }\n",
              "\n",
              "    .colab-df-convert:hover {\n",
              "      background-color: #E2EBFA;\n",
              "      box-shadow: 0px 1px 2px rgba(60, 64, 67, 0.3), 0px 1px 3px 1px rgba(60, 64, 67, 0.15);\n",
              "      fill: #174EA6;\n",
              "    }\n",
              "\n",
              "    .colab-df-buttons div {\n",
              "      margin-bottom: 4px;\n",
              "    }\n",
              "\n",
              "    [theme=dark] .colab-df-convert {\n",
              "      background-color: #3B4455;\n",
              "      fill: #D2E3FC;\n",
              "    }\n",
              "\n",
              "    [theme=dark] .colab-df-convert:hover {\n",
              "      background-color: #434B5C;\n",
              "      box-shadow: 0px 1px 3px 1px rgba(0, 0, 0, 0.15);\n",
              "      filter: drop-shadow(0px 1px 2px rgba(0, 0, 0, 0.3));\n",
              "      fill: #FFFFFF;\n",
              "    }\n",
              "  </style>\n",
              "\n",
              "    <script>\n",
              "      const buttonEl =\n",
              "        document.querySelector('#df-092af7cf-59e5-46e4-8e2d-d11d545ec243 button.colab-df-convert');\n",
              "      buttonEl.style.display =\n",
              "        google.colab.kernel.accessAllowed ? 'block' : 'none';\n",
              "\n",
              "      async function convertToInteractive(key) {\n",
              "        const element = document.querySelector('#df-092af7cf-59e5-46e4-8e2d-d11d545ec243');\n",
              "        const dataTable =\n",
              "          await google.colab.kernel.invokeFunction('convertToInteractive',\n",
              "                                                    [key], {});\n",
              "        if (!dataTable) return;\n",
              "\n",
              "        const docLinkHtml = 'Like what you see? Visit the ' +\n",
              "          '<a target=\"_blank\" href=https://colab.research.google.com/notebooks/data_table.ipynb>data table notebook</a>'\n",
              "          + ' to learn more about interactive tables.';\n",
              "        element.innerHTML = '';\n",
              "        dataTable['output_type'] = 'display_data';\n",
              "        await google.colab.output.renderOutput(dataTable, element);\n",
              "        const docLink = document.createElement('div');\n",
              "        docLink.innerHTML = docLinkHtml;\n",
              "        element.appendChild(docLink);\n",
              "      }\n",
              "    </script>\n",
              "  </div>\n",
              "\n",
              "\n",
              "<div id=\"df-b5395699-f04f-4979-9b5b-fffb57347c71\">\n",
              "  <button class=\"colab-df-quickchart\" onclick=\"quickchart('df-b5395699-f04f-4979-9b5b-fffb57347c71')\"\n",
              "            title=\"Suggest charts\"\n",
              "            style=\"display:none;\">\n",
              "\n",
              "<svg xmlns=\"http://www.w3.org/2000/svg\" height=\"24px\"viewBox=\"0 0 24 24\"\n",
              "     width=\"24px\">\n",
              "    <g>\n",
              "        <path d=\"M19 3H5c-1.1 0-2 .9-2 2v14c0 1.1.9 2 2 2h14c1.1 0 2-.9 2-2V5c0-1.1-.9-2-2-2zM9 17H7v-7h2v7zm4 0h-2V7h2v10zm4 0h-2v-4h2v4z\"/>\n",
              "    </g>\n",
              "</svg>\n",
              "  </button>\n",
              "\n",
              "<style>\n",
              "  .colab-df-quickchart {\n",
              "      --bg-color: #E8F0FE;\n",
              "      --fill-color: #1967D2;\n",
              "      --hover-bg-color: #E2EBFA;\n",
              "      --hover-fill-color: #174EA6;\n",
              "      --disabled-fill-color: #AAA;\n",
              "      --disabled-bg-color: #DDD;\n",
              "  }\n",
              "\n",
              "  [theme=dark] .colab-df-quickchart {\n",
              "      --bg-color: #3B4455;\n",
              "      --fill-color: #D2E3FC;\n",
              "      --hover-bg-color: #434B5C;\n",
              "      --hover-fill-color: #FFFFFF;\n",
              "      --disabled-bg-color: #3B4455;\n",
              "      --disabled-fill-color: #666;\n",
              "  }\n",
              "\n",
              "  .colab-df-quickchart {\n",
              "    background-color: var(--bg-color);\n",
              "    border: none;\n",
              "    border-radius: 50%;\n",
              "    cursor: pointer;\n",
              "    display: none;\n",
              "    fill: var(--fill-color);\n",
              "    height: 32px;\n",
              "    padding: 0;\n",
              "    width: 32px;\n",
              "  }\n",
              "\n",
              "  .colab-df-quickchart:hover {\n",
              "    background-color: var(--hover-bg-color);\n",
              "    box-shadow: 0 1px 2px rgba(60, 64, 67, 0.3), 0 1px 3px 1px rgba(60, 64, 67, 0.15);\n",
              "    fill: var(--button-hover-fill-color);\n",
              "  }\n",
              "\n",
              "  .colab-df-quickchart-complete:disabled,\n",
              "  .colab-df-quickchart-complete:disabled:hover {\n",
              "    background-color: var(--disabled-bg-color);\n",
              "    fill: var(--disabled-fill-color);\n",
              "    box-shadow: none;\n",
              "  }\n",
              "\n",
              "  .colab-df-spinner {\n",
              "    border: 2px solid var(--fill-color);\n",
              "    border-color: transparent;\n",
              "    border-bottom-color: var(--fill-color);\n",
              "    animation:\n",
              "      spin 1s steps(1) infinite;\n",
              "  }\n",
              "\n",
              "  @keyframes spin {\n",
              "    0% {\n",
              "      border-color: transparent;\n",
              "      border-bottom-color: var(--fill-color);\n",
              "      border-left-color: var(--fill-color);\n",
              "    }\n",
              "    20% {\n",
              "      border-color: transparent;\n",
              "      border-left-color: var(--fill-color);\n",
              "      border-top-color: var(--fill-color);\n",
              "    }\n",
              "    30% {\n",
              "      border-color: transparent;\n",
              "      border-left-color: var(--fill-color);\n",
              "      border-top-color: var(--fill-color);\n",
              "      border-right-color: var(--fill-color);\n",
              "    }\n",
              "    40% {\n",
              "      border-color: transparent;\n",
              "      border-right-color: var(--fill-color);\n",
              "      border-top-color: var(--fill-color);\n",
              "    }\n",
              "    60% {\n",
              "      border-color: transparent;\n",
              "      border-right-color: var(--fill-color);\n",
              "    }\n",
              "    80% {\n",
              "      border-color: transparent;\n",
              "      border-right-color: var(--fill-color);\n",
              "      border-bottom-color: var(--fill-color);\n",
              "    }\n",
              "    90% {\n",
              "      border-color: transparent;\n",
              "      border-bottom-color: var(--fill-color);\n",
              "    }\n",
              "  }\n",
              "</style>\n",
              "\n",
              "  <script>\n",
              "    async function quickchart(key) {\n",
              "      const quickchartButtonEl =\n",
              "        document.querySelector('#' + key + ' button');\n",
              "      quickchartButtonEl.disabled = true;  // To prevent multiple clicks.\n",
              "      quickchartButtonEl.classList.add('colab-df-spinner');\n",
              "      try {\n",
              "        const charts = await google.colab.kernel.invokeFunction(\n",
              "            'suggestCharts', [key], {});\n",
              "      } catch (error) {\n",
              "        console.error('Error during call to suggestCharts:', error);\n",
              "      }\n",
              "      quickchartButtonEl.classList.remove('colab-df-spinner');\n",
              "      quickchartButtonEl.classList.add('colab-df-quickchart-complete');\n",
              "    }\n",
              "    (() => {\n",
              "      let quickchartButtonEl =\n",
              "        document.querySelector('#df-b5395699-f04f-4979-9b5b-fffb57347c71 button');\n",
              "      quickchartButtonEl.style.display =\n",
              "        google.colab.kernel.accessAllowed ? 'block' : 'none';\n",
              "    })();\n",
              "  </script>\n",
              "</div>\n",
              "\n",
              "    </div>\n",
              "  </div>\n"
            ],
            "application/vnd.google.colaboratory.intrinsic+json": {
              "type": "dataframe",
              "variable_name": "df",
              "summary": "{\n  \"name\": \"df\",\n  \"rows\": 500,\n  \"fields\": [\n    {\n      \"column\": \"Student_id\",\n      \"properties\": {\n        \"dtype\": \"number\",\n        \"std\": 144,\n        \"min\": 1,\n        \"max\": 500,\n        \"num_unique_values\": 500,\n        \"samples\": [\n          362,\n          74,\n          375\n        ],\n        \"semantic_type\": \"\",\n        \"description\": \"\"\n      }\n    },\n    {\n      \"column\": \"Student_Name\",\n      \"properties\": {\n        \"dtype\": \"string\",\n        \"num_unique_values\": 500,\n        \"samples\": [\n          \"Nancy Keedy\",\n          \"Marty Hoggetts\",\n          \"Mariana McQuin\"\n        ],\n        \"semantic_type\": \"\",\n        \"description\": \"\"\n      }\n    },\n    {\n      \"column\": \"Subject\",\n      \"properties\": {\n        \"dtype\": \"category\",\n        \"num_unique_values\": 12,\n        \"samples\": [\n          \"Accounting\",\n          \"Human Resources\",\n          \"Support\"\n        ],\n        \"semantic_type\": \"\",\n        \"description\": \"\"\n      }\n    },\n    {\n      \"column\": \"Score\",\n      \"properties\": {\n        \"dtype\": \"number\",\n        \"std\": 11,\n        \"min\": 60,\n        \"max\": 100,\n        \"num_unique_values\": 41,\n        \"samples\": [\n          90,\n          61,\n          86\n        ],\n        \"semantic_type\": \"\",\n        \"description\": \"\"\n      }\n    },\n    {\n      \"column\": \"Attendance_Percentage\",\n      \"properties\": {\n        \"dtype\": \"number\",\n        \"std\": 17,\n        \"min\": 40,\n        \"max\": 100,\n        \"num_unique_values\": 61,\n        \"samples\": [\n          99,\n          80,\n          73\n        ],\n        \"semantic_type\": \"\",\n        \"description\": \"\"\n      }\n    },\n    {\n      \"column\": \"Assignment_Completion\",\n      \"properties\": {\n        \"dtype\": \"boolean\",\n        \"num_unique_values\": 2,\n        \"samples\": [\n          true,\n          false\n        ],\n        \"semantic_type\": \"\",\n        \"description\": \"\"\n      }\n    }\n  ]\n}"
            }
          },
          "metadata": {},
          "execution_count": 3
        }
      ]
    },
    {
      "cell_type": "markdown",
      "source": [
        "**2. Basic Data Handling**"
      ],
      "metadata": {
        "id": "UzwtKTY1e98K"
      }
    },
    {
      "cell_type": "markdown",
      "source": [
        "● Use File Handling to:\n",
        "\n",
        "○ Read the CSV file.\n",
        "\n",
        "○ Write modified or updated data back to a new CSV file."
      ],
      "metadata": {
        "id": "izqW2ZCOfA_p"
      }
    },
    {
      "cell_type": "code",
      "source": [
        "import pandas as pd\n",
        "df = pd.read_csv('/content/probesh_mockdata.csv')"
      ],
      "metadata": {
        "id": "y5LBrckxPUv_"
      },
      "execution_count": null,
      "outputs": []
    },
    {
      "cell_type": "code",
      "source": [
        "df.head()"
      ],
      "metadata": {
        "colab": {
          "base_uri": "https://localhost:8080/",
          "height": 206
        },
        "id": "JWrcm2egPbR_",
        "outputId": "3a97a8bb-c463-4700-f9b1-d04d858e4928"
      },
      "execution_count": null,
      "outputs": [
        {
          "output_type": "execute_result",
          "data": {
            "text/plain": [
              "   Student_id        Student_Name               Subject  Score  \\\n",
              "0           1       Nolana Serris               Support     70   \n",
              "1           2  Matthias Poundford  Business Development     84   \n",
              "2           3    Vonnie Brookwell             Marketing     73   \n",
              "3           4   Christabel Lamers                 Sales     77   \n",
              "4           5        Devlen Mizzi           Engineering     67   \n",
              "\n",
              "   Attendance_Percentage  Assignment_Completion  \n",
              "0                     99                  False  \n",
              "1                     86                  False  \n",
              "2                     96                  False  \n",
              "3                     55                  False  \n",
              "4                     84                  False  "
            ],
            "text/html": [
              "\n",
              "  <div id=\"df-3acf7899-6290-405d-8b2f-0a22cb13af3f\" class=\"colab-df-container\">\n",
              "    <div>\n",
              "<style scoped>\n",
              "    .dataframe tbody tr th:only-of-type {\n",
              "        vertical-align: middle;\n",
              "    }\n",
              "\n",
              "    .dataframe tbody tr th {\n",
              "        vertical-align: top;\n",
              "    }\n",
              "\n",
              "    .dataframe thead th {\n",
              "        text-align: right;\n",
              "    }\n",
              "</style>\n",
              "<table border=\"1\" class=\"dataframe\">\n",
              "  <thead>\n",
              "    <tr style=\"text-align: right;\">\n",
              "      <th></th>\n",
              "      <th>Student_id</th>\n",
              "      <th>Student_Name</th>\n",
              "      <th>Subject</th>\n",
              "      <th>Score</th>\n",
              "      <th>Attendance_Percentage</th>\n",
              "      <th>Assignment_Completion</th>\n",
              "    </tr>\n",
              "  </thead>\n",
              "  <tbody>\n",
              "    <tr>\n",
              "      <th>0</th>\n",
              "      <td>1</td>\n",
              "      <td>Nolana Serris</td>\n",
              "      <td>Support</td>\n",
              "      <td>70</td>\n",
              "      <td>99</td>\n",
              "      <td>False</td>\n",
              "    </tr>\n",
              "    <tr>\n",
              "      <th>1</th>\n",
              "      <td>2</td>\n",
              "      <td>Matthias Poundford</td>\n",
              "      <td>Business Development</td>\n",
              "      <td>84</td>\n",
              "      <td>86</td>\n",
              "      <td>False</td>\n",
              "    </tr>\n",
              "    <tr>\n",
              "      <th>2</th>\n",
              "      <td>3</td>\n",
              "      <td>Vonnie Brookwell</td>\n",
              "      <td>Marketing</td>\n",
              "      <td>73</td>\n",
              "      <td>96</td>\n",
              "      <td>False</td>\n",
              "    </tr>\n",
              "    <tr>\n",
              "      <th>3</th>\n",
              "      <td>4</td>\n",
              "      <td>Christabel Lamers</td>\n",
              "      <td>Sales</td>\n",
              "      <td>77</td>\n",
              "      <td>55</td>\n",
              "      <td>False</td>\n",
              "    </tr>\n",
              "    <tr>\n",
              "      <th>4</th>\n",
              "      <td>5</td>\n",
              "      <td>Devlen Mizzi</td>\n",
              "      <td>Engineering</td>\n",
              "      <td>67</td>\n",
              "      <td>84</td>\n",
              "      <td>False</td>\n",
              "    </tr>\n",
              "  </tbody>\n",
              "</table>\n",
              "</div>\n",
              "    <div class=\"colab-df-buttons\">\n",
              "\n",
              "  <div class=\"colab-df-container\">\n",
              "    <button class=\"colab-df-convert\" onclick=\"convertToInteractive('df-3acf7899-6290-405d-8b2f-0a22cb13af3f')\"\n",
              "            title=\"Convert this dataframe to an interactive table.\"\n",
              "            style=\"display:none;\">\n",
              "\n",
              "  <svg xmlns=\"http://www.w3.org/2000/svg\" height=\"24px\" viewBox=\"0 -960 960 960\">\n",
              "    <path d=\"M120-120v-720h720v720H120Zm60-500h600v-160H180v160Zm220 220h160v-160H400v160Zm0 220h160v-160H400v160ZM180-400h160v-160H180v160Zm440 0h160v-160H620v160ZM180-180h160v-160H180v160Zm440 0h160v-160H620v160Z\"/>\n",
              "  </svg>\n",
              "    </button>\n",
              "\n",
              "  <style>\n",
              "    .colab-df-container {\n",
              "      display:flex;\n",
              "      gap: 12px;\n",
              "    }\n",
              "\n",
              "    .colab-df-convert {\n",
              "      background-color: #E8F0FE;\n",
              "      border: none;\n",
              "      border-radius: 50%;\n",
              "      cursor: pointer;\n",
              "      display: none;\n",
              "      fill: #1967D2;\n",
              "      height: 32px;\n",
              "      padding: 0 0 0 0;\n",
              "      width: 32px;\n",
              "    }\n",
              "\n",
              "    .colab-df-convert:hover {\n",
              "      background-color: #E2EBFA;\n",
              "      box-shadow: 0px 1px 2px rgba(60, 64, 67, 0.3), 0px 1px 3px 1px rgba(60, 64, 67, 0.15);\n",
              "      fill: #174EA6;\n",
              "    }\n",
              "\n",
              "    .colab-df-buttons div {\n",
              "      margin-bottom: 4px;\n",
              "    }\n",
              "\n",
              "    [theme=dark] .colab-df-convert {\n",
              "      background-color: #3B4455;\n",
              "      fill: #D2E3FC;\n",
              "    }\n",
              "\n",
              "    [theme=dark] .colab-df-convert:hover {\n",
              "      background-color: #434B5C;\n",
              "      box-shadow: 0px 1px 3px 1px rgba(0, 0, 0, 0.15);\n",
              "      filter: drop-shadow(0px 1px 2px rgba(0, 0, 0, 0.3));\n",
              "      fill: #FFFFFF;\n",
              "    }\n",
              "  </style>\n",
              "\n",
              "    <script>\n",
              "      const buttonEl =\n",
              "        document.querySelector('#df-3acf7899-6290-405d-8b2f-0a22cb13af3f button.colab-df-convert');\n",
              "      buttonEl.style.display =\n",
              "        google.colab.kernel.accessAllowed ? 'block' : 'none';\n",
              "\n",
              "      async function convertToInteractive(key) {\n",
              "        const element = document.querySelector('#df-3acf7899-6290-405d-8b2f-0a22cb13af3f');\n",
              "        const dataTable =\n",
              "          await google.colab.kernel.invokeFunction('convertToInteractive',\n",
              "                                                    [key], {});\n",
              "        if (!dataTable) return;\n",
              "\n",
              "        const docLinkHtml = 'Like what you see? Visit the ' +\n",
              "          '<a target=\"_blank\" href=https://colab.research.google.com/notebooks/data_table.ipynb>data table notebook</a>'\n",
              "          + ' to learn more about interactive tables.';\n",
              "        element.innerHTML = '';\n",
              "        dataTable['output_type'] = 'display_data';\n",
              "        await google.colab.output.renderOutput(dataTable, element);\n",
              "        const docLink = document.createElement('div');\n",
              "        docLink.innerHTML = docLinkHtml;\n",
              "        element.appendChild(docLink);\n",
              "      }\n",
              "    </script>\n",
              "  </div>\n",
              "\n",
              "\n",
              "<div id=\"df-72366084-5a42-4499-bae1-8f64b5675cdd\">\n",
              "  <button class=\"colab-df-quickchart\" onclick=\"quickchart('df-72366084-5a42-4499-bae1-8f64b5675cdd')\"\n",
              "            title=\"Suggest charts\"\n",
              "            style=\"display:none;\">\n",
              "\n",
              "<svg xmlns=\"http://www.w3.org/2000/svg\" height=\"24px\"viewBox=\"0 0 24 24\"\n",
              "     width=\"24px\">\n",
              "    <g>\n",
              "        <path d=\"M19 3H5c-1.1 0-2 .9-2 2v14c0 1.1.9 2 2 2h14c1.1 0 2-.9 2-2V5c0-1.1-.9-2-2-2zM9 17H7v-7h2v7zm4 0h-2V7h2v10zm4 0h-2v-4h2v4z\"/>\n",
              "    </g>\n",
              "</svg>\n",
              "  </button>\n",
              "\n",
              "<style>\n",
              "  .colab-df-quickchart {\n",
              "      --bg-color: #E8F0FE;\n",
              "      --fill-color: #1967D2;\n",
              "      --hover-bg-color: #E2EBFA;\n",
              "      --hover-fill-color: #174EA6;\n",
              "      --disabled-fill-color: #AAA;\n",
              "      --disabled-bg-color: #DDD;\n",
              "  }\n",
              "\n",
              "  [theme=dark] .colab-df-quickchart {\n",
              "      --bg-color: #3B4455;\n",
              "      --fill-color: #D2E3FC;\n",
              "      --hover-bg-color: #434B5C;\n",
              "      --hover-fill-color: #FFFFFF;\n",
              "      --disabled-bg-color: #3B4455;\n",
              "      --disabled-fill-color: #666;\n",
              "  }\n",
              "\n",
              "  .colab-df-quickchart {\n",
              "    background-color: var(--bg-color);\n",
              "    border: none;\n",
              "    border-radius: 50%;\n",
              "    cursor: pointer;\n",
              "    display: none;\n",
              "    fill: var(--fill-color);\n",
              "    height: 32px;\n",
              "    padding: 0;\n",
              "    width: 32px;\n",
              "  }\n",
              "\n",
              "  .colab-df-quickchart:hover {\n",
              "    background-color: var(--hover-bg-color);\n",
              "    box-shadow: 0 1px 2px rgba(60, 64, 67, 0.3), 0 1px 3px 1px rgba(60, 64, 67, 0.15);\n",
              "    fill: var(--button-hover-fill-color);\n",
              "  }\n",
              "\n",
              "  .colab-df-quickchart-complete:disabled,\n",
              "  .colab-df-quickchart-complete:disabled:hover {\n",
              "    background-color: var(--disabled-bg-color);\n",
              "    fill: var(--disabled-fill-color);\n",
              "    box-shadow: none;\n",
              "  }\n",
              "\n",
              "  .colab-df-spinner {\n",
              "    border: 2px solid var(--fill-color);\n",
              "    border-color: transparent;\n",
              "    border-bottom-color: var(--fill-color);\n",
              "    animation:\n",
              "      spin 1s steps(1) infinite;\n",
              "  }\n",
              "\n",
              "  @keyframes spin {\n",
              "    0% {\n",
              "      border-color: transparent;\n",
              "      border-bottom-color: var(--fill-color);\n",
              "      border-left-color: var(--fill-color);\n",
              "    }\n",
              "    20% {\n",
              "      border-color: transparent;\n",
              "      border-left-color: var(--fill-color);\n",
              "      border-top-color: var(--fill-color);\n",
              "    }\n",
              "    30% {\n",
              "      border-color: transparent;\n",
              "      border-left-color: var(--fill-color);\n",
              "      border-top-color: var(--fill-color);\n",
              "      border-right-color: var(--fill-color);\n",
              "    }\n",
              "    40% {\n",
              "      border-color: transparent;\n",
              "      border-right-color: var(--fill-color);\n",
              "      border-top-color: var(--fill-color);\n",
              "    }\n",
              "    60% {\n",
              "      border-color: transparent;\n",
              "      border-right-color: var(--fill-color);\n",
              "    }\n",
              "    80% {\n",
              "      border-color: transparent;\n",
              "      border-right-color: var(--fill-color);\n",
              "      border-bottom-color: var(--fill-color);\n",
              "    }\n",
              "    90% {\n",
              "      border-color: transparent;\n",
              "      border-bottom-color: var(--fill-color);\n",
              "    }\n",
              "  }\n",
              "</style>\n",
              "\n",
              "  <script>\n",
              "    async function quickchart(key) {\n",
              "      const quickchartButtonEl =\n",
              "        document.querySelector('#' + key + ' button');\n",
              "      quickchartButtonEl.disabled = true;  // To prevent multiple clicks.\n",
              "      quickchartButtonEl.classList.add('colab-df-spinner');\n",
              "      try {\n",
              "        const charts = await google.colab.kernel.invokeFunction(\n",
              "            'suggestCharts', [key], {});\n",
              "      } catch (error) {\n",
              "        console.error('Error during call to suggestCharts:', error);\n",
              "      }\n",
              "      quickchartButtonEl.classList.remove('colab-df-spinner');\n",
              "      quickchartButtonEl.classList.add('colab-df-quickchart-complete');\n",
              "    }\n",
              "    (() => {\n",
              "      let quickchartButtonEl =\n",
              "        document.querySelector('#df-72366084-5a42-4499-bae1-8f64b5675cdd button');\n",
              "      quickchartButtonEl.style.display =\n",
              "        google.colab.kernel.accessAllowed ? 'block' : 'none';\n",
              "    })();\n",
              "  </script>\n",
              "</div>\n",
              "\n",
              "    </div>\n",
              "  </div>\n"
            ],
            "application/vnd.google.colaboratory.intrinsic+json": {
              "type": "dataframe",
              "variable_name": "df",
              "summary": "{\n  \"name\": \"df\",\n  \"rows\": 500,\n  \"fields\": [\n    {\n      \"column\": \"Student_id\",\n      \"properties\": {\n        \"dtype\": \"number\",\n        \"std\": 144,\n        \"min\": 1,\n        \"max\": 500,\n        \"num_unique_values\": 500,\n        \"samples\": [\n          362,\n          74,\n          375\n        ],\n        \"semantic_type\": \"\",\n        \"description\": \"\"\n      }\n    },\n    {\n      \"column\": \"Student_Name\",\n      \"properties\": {\n        \"dtype\": \"string\",\n        \"num_unique_values\": 500,\n        \"samples\": [\n          \"Nancy Keedy\",\n          \"Marty Hoggetts\",\n          \"Mariana McQuin\"\n        ],\n        \"semantic_type\": \"\",\n        \"description\": \"\"\n      }\n    },\n    {\n      \"column\": \"Subject\",\n      \"properties\": {\n        \"dtype\": \"category\",\n        \"num_unique_values\": 12,\n        \"samples\": [\n          \"Accounting\",\n          \"Human Resources\",\n          \"Support\"\n        ],\n        \"semantic_type\": \"\",\n        \"description\": \"\"\n      }\n    },\n    {\n      \"column\": \"Score\",\n      \"properties\": {\n        \"dtype\": \"number\",\n        \"std\": 11,\n        \"min\": 60,\n        \"max\": 100,\n        \"num_unique_values\": 41,\n        \"samples\": [\n          90,\n          61,\n          86\n        ],\n        \"semantic_type\": \"\",\n        \"description\": \"\"\n      }\n    },\n    {\n      \"column\": \"Attendance_Percentage\",\n      \"properties\": {\n        \"dtype\": \"number\",\n        \"std\": 17,\n        \"min\": 40,\n        \"max\": 100,\n        \"num_unique_values\": 61,\n        \"samples\": [\n          99,\n          80,\n          73\n        ],\n        \"semantic_type\": \"\",\n        \"description\": \"\"\n      }\n    },\n    {\n      \"column\": \"Assignment_Completion\",\n      \"properties\": {\n        \"dtype\": \"boolean\",\n        \"num_unique_values\": 2,\n        \"samples\": [\n          true,\n          false\n        ],\n        \"semantic_type\": \"\",\n        \"description\": \"\"\n      }\n    }\n  ]\n}"
            }
          },
          "metadata": {},
          "execution_count": 8
        }
      ]
    },
    {
      "cell_type": "code",
      "source": [
        "def write_to_csv(df):\n",
        "  df.to_csv(\"updated_probesh_mockdata.csv\", index=True)\n",
        "\n",
        "write_to_csv(df)"
      ],
      "metadata": {
        "id": "oM_QrVSFP5jP"
      },
      "execution_count": null,
      "outputs": []
    },
    {
      "cell_type": "markdown",
      "source": [
        "**3. Data Analysis and Manipulation**"
      ],
      "metadata": {
        "id": "WhQNa9lKf_Bp"
      }
    },
    {
      "cell_type": "markdown",
      "source": [
        "**● Pandas and DataFrames:**"
      ],
      "metadata": {
        "id": "55u4tIQtQ7rP"
      }
    },
    {
      "cell_type": "markdown",
      "source": [
        "Analyze average, minimum, and maximum scores per student."
      ],
      "metadata": {
        "id": "2QybMTTMRFDv"
      }
    },
    {
      "cell_type": "code",
      "source": [
        "# Analyze average\n",
        "average = df['Score'].mean()\n",
        "print(average)"
      ],
      "metadata": {
        "colab": {
          "base_uri": "https://localhost:8080/"
        },
        "id": "ZJjaDc22RGpn",
        "outputId": "37f89f0e-196d-4040-8244-d7326e1b88dd"
      },
      "execution_count": null,
      "outputs": [
        {
          "output_type": "stream",
          "name": "stdout",
          "text": [
            "79.58\n"
          ]
        }
      ]
    },
    {
      "cell_type": "code",
      "source": [
        "# minimum\n",
        "minimum = df['Score'].min()\n",
        "print(minimum)"
      ],
      "metadata": {
        "colab": {
          "base_uri": "https://localhost:8080/"
        },
        "id": "AG60BDI3SZYw",
        "outputId": "081e2229-6535-45b2-9f65-85d4c81d339c"
      },
      "execution_count": null,
      "outputs": [
        {
          "output_type": "stream",
          "name": "stdout",
          "text": [
            "60\n"
          ]
        }
      ]
    },
    {
      "cell_type": "code",
      "source": [
        "# maximum\n",
        "maximum = df['Score'].max()\n",
        "print(maximum)"
      ],
      "metadata": {
        "colab": {
          "base_uri": "https://localhost:8080/"
        },
        "id": "cbm6glzKS0DH",
        "outputId": "30042b74-968f-413c-fed6-a4902e0e95f9"
      },
      "execution_count": null,
      "outputs": [
        {
          "output_type": "stream",
          "name": "stdout",
          "text": [
            "100\n"
          ]
        }
      ]
    },
    {
      "cell_type": "markdown",
      "source": [
        "Identify students with attendance < 75% or missing assignments."
      ],
      "metadata": {
        "id": "5UsA5_1aTPQA"
      }
    },
    {
      "cell_type": "code",
      "source": [
        "# attendance < 75%\n",
        "low_attendance_student = df[(df['Attendance_Percentage'] < 75) & (df['Assignment_Completion'] == False)]\n",
        "print(low_attendance_student)\n"
      ],
      "metadata": {
        "colab": {
          "base_uri": "https://localhost:8080/"
        },
        "id": "8xwqmDAoTTSI",
        "outputId": "f11f3708-a7a6-446e-93d0-56c3ae286b52"
      },
      "execution_count": null,
      "outputs": [
        {
          "output_type": "stream",
          "name": "stdout",
          "text": [
            "     Student_id       Student_Name                   Subject  Score  \\\n",
            "3             4  Christabel Lamers                     Sales     77   \n",
            "7             8      Barry Allmond      Business Development     97   \n",
            "8             9  Ingram Bassingden  Research and Development     63   \n",
            "13           14      Aldo Cowpland        Product Management     60   \n",
            "14           15     Grethel Chable      Business Development     61   \n",
            "..          ...                ...                       ...    ...   \n",
            "485         486        Elinor Dent      Business Development     86   \n",
            "489         490        Amos Munton                  Training     67   \n",
            "492         493     Fredia Youthed               Engineering     80   \n",
            "493         494    Fredra Surplice                 Marketing     61   \n",
            "499         500    Marjie Scinelli           Human Resources     62   \n",
            "\n",
            "     Attendance_Percentage  Assignment_Completion  \n",
            "3                       55                  False  \n",
            "7                       70                  False  \n",
            "8                       71                  False  \n",
            "13                      50                  False  \n",
            "14                      69                  False  \n",
            "..                     ...                    ...  \n",
            "485                     74                  False  \n",
            "489                     69                  False  \n",
            "492                     40                  False  \n",
            "493                     65                  False  \n",
            "499                     64                  False  \n",
            "\n",
            "[137 rows x 6 columns]\n"
          ]
        }
      ]
    },
    {
      "cell_type": "markdown",
      "source": [
        "**Boolean Indexing:**"
      ],
      "metadata": {
        "id": "cz_YkFoZX6XZ"
      }
    },
    {
      "cell_type": "markdown",
      "source": [
        "Filter students failing a specific subject."
      ],
      "metadata": {
        "id": "eMLjBu1FX8b5"
      }
    },
    {
      "cell_type": "code",
      "source": [
        "failing_students = df[(df['Subject'] == 'Business Development') & (df['Score'] <= 70) & (df['Assignment_Completion'] == False)]\n",
        "print(failing_students)\n"
      ],
      "metadata": {
        "colab": {
          "base_uri": "https://localhost:8080/"
        },
        "id": "4FHCUf6SYMuJ",
        "outputId": "3c57e4e5-dd1d-4851-c339-18b4471c77ba"
      },
      "execution_count": null,
      "outputs": [
        {
          "output_type": "stream",
          "name": "stdout",
          "text": [
            "     Student_id     Student_Name               Subject  Score  \\\n",
            "14           15   Grethel Chable  Business Development     61   \n",
            "38           39      Lucien Voak  Business Development     65   \n",
            "185         186  Catie Inglesant  Business Development     61   \n",
            "220         221       Goran Nund  Business Development     68   \n",
            "403         404   Monica Slocomb  Business Development     66   \n",
            "\n",
            "     Attendance_Percentage  Assignment_Completion  \n",
            "14                      69                  False  \n",
            "38                      67                  False  \n",
            "185                     52                  False  \n",
            "220                     78                  False  \n",
            "403                     79                  False  \n"
          ]
        }
      ]
    },
    {
      "cell_type": "markdown",
      "source": [
        "**● Data Type Conversion:**"
      ],
      "metadata": {
        "id": "KGy2ke-3bA0y"
      }
    },
    {
      "cell_type": "markdown",
      "source": [
        "Convert Score to integer if stored as a string."
      ],
      "metadata": {
        "id": "0iYwKGDvbFsK"
      }
    },
    {
      "cell_type": "code",
      "source": [
        "#scores = type(df['Score'])\n",
        "#print(scores)\n",
        "\n",
        "df['Score'] = df['Score'].astype(int)\n",
        "\n",
        "#scores = type(df['Score'])\n",
        "#print(scores)\n"
      ],
      "metadata": {
        "colab": {
          "base_uri": "https://localhost:8080/"
        },
        "id": "BTgpIL5TbN76",
        "outputId": "7b079716-b2ef-4594-b2a6-b5261bde1515"
      },
      "execution_count": null,
      "outputs": [
        {
          "output_type": "stream",
          "name": "stdout",
          "text": [
            "<class 'pandas.core.series.Series'>\n",
            "<class 'pandas.core.series.Series'>\n"
          ]
        }
      ]
    },
    {
      "cell_type": "markdown",
      "source": [
        "**4. Visualization**"
      ],
      "metadata": {
        "id": "jL50a03qgEVS"
      }
    },
    {
      "cell_type": "markdown",
      "source": [
        "**● Use Matplotlib or Pandas Visualization to:**"
      ],
      "metadata": {
        "id": "60z-cXHFV4sY"
      }
    },
    {
      "cell_type": "markdown",
      "source": [
        "Plot a bar chart of average scores by subject."
      ],
      "metadata": {
        "id": "DLbvwQdTV7Vx"
      }
    },
    {
      "cell_type": "code",
      "source": [
        "import matplotlib.pyplot as plt"
      ],
      "metadata": {
        "id": "K8rngBvVWLQ4"
      },
      "execution_count": null,
      "outputs": []
    },
    {
      "cell_type": "code",
      "source": [
        "df = pd.DataFrame(df)"
      ],
      "metadata": {
        "id": "AUm2dFfSdqtj"
      },
      "execution_count": null,
      "outputs": []
    },
    {
      "cell_type": "code",
      "source": [
        "# Calculate average scores by subject\n",
        "average_scores = df.groupby('Subject')['Score'].mean()"
      ],
      "metadata": {
        "id": "M10ysJttd71D"
      },
      "execution_count": null,
      "outputs": []
    },
    {
      "cell_type": "code",
      "source": [
        "plt.figure(figsize=(8, 6))\n",
        "average_scores.plot(kind='bar', color=[\"skyblue\",\"red\",\"green\",\"blue\",\"black\",\"yellow\"], edgecolor='black')\n",
        "\n",
        "\n",
        "# Add labels and title\n",
        "plt.title('Average Scores by Subject', fontsize=12)\n",
        "plt.xlabel('Subject', fontsize=10)\n",
        "plt.ylabel('Average Score', fontsize=10)\n",
        "plt.xticks(rotation=0, fontsize=5)\n",
        "plt.yticks(fontsize=10)\n",
        "plt.grid(axis='y', linestyle='--', alpha=0.7)\n",
        "\n",
        "# Show the plot\n",
        "plt.tight_layout()\n",
        "plt.show()"
      ],
      "metadata": {
        "colab": {
          "base_uri": "https://localhost:8080/",
          "height": 607
        },
        "id": "p7Ta4PO0eM3b",
        "outputId": "7b9b895b-624c-4433-8f82-e96485bc5a6e"
      },
      "execution_count": null,
      "outputs": [
        {
          "output_type": "display_data",
          "data": {
            "text/plain": [
              "<Figure size 800x600 with 1 Axes>"
            ],
            "image/png": "[encoded data removed]"
          },
          "metadata": {}
        }
      ]
    },
    {
      "cell_type": "markdown",
      "source": [
        "Display a pie chart of attendance percentage categories (e.g., <50%, 50-75%,>75%)."
      ],
      "metadata": {
        "id": "0wcjv0KaXVwB"
      }
    },
    {
      "cell_type": "code",
      "source": [
        "# Categorize attendance percentages\n",
        "categories = pd.cut(\n",
        "    df['Attendance_Percentage'],\n",
        "    bins=[0, 50, 75, 100],\n",
        "    labels=['<50%', '50-75%', '>75%']\n",
        ")\n",
        "\n",
        "# Count the number of students in each category\n",
        "category_counts = categories.value_counts(sort=False)\n",
        "\n",
        "# Plot a pie chart\n",
        "plt.figure(figsize=(8, 8))\n",
        "category_counts.plot(\n",
        "    kind='pie',\n",
        "    autopct='%1.1f%%',\n",
        "    colors=['red', 'green', 'skyblue'],\n",
        "    startangle=140,\n",
        "    labels=category_counts.index\n",
        ")\n",
        "\n",
        "# Add a title\n",
        "plt.title('Attendance Percentage Categories', fontsize=14)\n",
        "\n",
        "# Show the plot\n",
        "plt.ylabel('')\n",
        "plt.show()"
      ],
      "metadata": {
        "colab": {
          "base_uri": "https://localhost:8080/",
          "height": 676
        },
        "id": "X3NuS9GohSls",
        "outputId": "c887acf5-398b-4f3b-8789-4dabe1cf7927"
      },
      "execution_count": null,
      "outputs": [
        {
          "output_type": "display_data",
          "data": {
            "text/plain": [
              "<Figure size 800x800 with 1 Axes>"
            ],
            "image/png": "[encoded data removed]"
          },
          "metadata": {}
        }
      ]
    },
    {
      "cell_type": "markdown",
      "source": [
        "Create a line graph showing performance trends over time for a selected student."
      ],
      "metadata": {
        "id": "cY84Ky0gXj7Z"
      }
    },
    {
      "cell_type": "code",
      "source": [],
      "metadata": {
        "id": "Lam3QZxzjop1"
      },
      "execution_count": null,
      "outputs": []
    },
    {
      "cell_type": "markdown",
      "source": [
        "**5. Applying Functions and Logic**"
      ],
      "metadata": {
        "id": "FDFaWEA3gbz6"
      }
    },
    {
      "cell_type": "markdown",
      "source": [
        "**● Implement Functions for:**"
      ],
      "metadata": {
        "id": "kLr1bocVjuHd"
      }
    },
    {
      "cell_type": "markdown",
      "source": [
        "Calculating aggregate scores for each student."
      ],
      "metadata": {
        "id": "Bs5gL4DSjwu_"
      }
    },
    {
      "cell_type": "code",
      "source": [
        "# Calculate aggregate scores for each student\n",
        "aggregate_scores = df.groupby('Student_Name')['Score'].sum().reset_index()\n",
        "\n",
        "# Rename the column for clarity\n",
        "aggregate_scores.columns = ['Student_Name', 'Total Score']\n",
        "\n",
        "# Display the result\n",
        "print(aggregate_scores)"
      ],
      "metadata": {
        "colab": {
          "base_uri": "https://localhost:8080/"
        },
        "id": "pCbQgwc6kUEL",
        "outputId": "2fc110e6-7b32-470a-8259-d981213720fe"
      },
      "execution_count": null,
      "outputs": [
        {
          "output_type": "stream",
          "name": "stdout",
          "text": [
            "            Student_Name  Total Score\n",
            "0        Aaren Botwright           71\n",
            "1           Abba Luppitt           85\n",
            "2    Abbott Ketteringham           96\n",
            "3       Adelbert Debrett           75\n",
            "4        Adolphe Stalman           80\n",
            "..                   ...          ...\n",
            "495   Xerxes Fairweather           75\n",
            "496      Yvor Hartlebury           77\n",
            "497           Zach Abyss           92\n",
            "498       Zara Jukubczak           93\n",
            "499         Zoe Dunkerly           86\n",
            "\n",
            "[500 rows x 2 columns]\n"
          ]
        }
      ]
    },
    {
      "cell_type": "markdown",
      "source": [
        "Determining grade (A/B/C/Fail) based on scoring criteria."
      ],
      "metadata": {
        "id": "xbVantU5luw9"
      }
    },
    {
      "cell_type": "code",
      "source": [
        "# Define a function to assign grades\n",
        "def assign_grade(score):\n",
        "    if score >= 80:\n",
        "        return 'A+'\n",
        "    elif score >= 70:\n",
        "        return 'A'\n",
        "    elif score >= 60:\n",
        "        return 'B'\n",
        "    elif score >= 50:\n",
        "        return 'C'\n",
        "    else:\n",
        "        return 'Fail'\n",
        "\n",
        "# Apply the function\n",
        "df['Grade'] = df['Score'].apply(assign_grade)\n",
        "\n",
        "# Display the DataFrame\n",
        "print(df)"
      ],
      "metadata": {
        "colab": {
          "base_uri": "https://localhost:8080/"
        },
        "id": "ANBH0FO4lw-t",
        "outputId": "d4e53b48-589c-4d0e-d2a8-1b68fd0c35b6"
      },
      "execution_count": null,
      "outputs": [
        {
          "output_type": "stream",
          "name": "stdout",
          "text": [
            "     Student_id        Student_Name               Subject  Score  \\\n",
            "0             1       Nolana Serris               Support     70   \n",
            "1             2  Matthias Poundford  Business Development     84   \n",
            "2             3    Vonnie Brookwell             Marketing     73   \n",
            "3             4   Christabel Lamers                 Sales     77   \n",
            "4             5        Devlen Mizzi           Engineering     67   \n",
            "..          ...                 ...                   ...    ...   \n",
            "495         496    Jillane Willshaw            Accounting     85   \n",
            "496         497   Clayborne Kosiada       Human Resources     92   \n",
            "497         498     Valentin Pescud               Support     74   \n",
            "498         499        Missy Reuben                 Sales     82   \n",
            "499         500     Marjie Scinelli       Human Resources     62   \n",
            "\n",
            "     Attendance_Percentage  Assignment_Completion Grade  \n",
            "0                       99                  False     A  \n",
            "1                       86                  False    A+  \n",
            "2                       96                  False     A  \n",
            "3                       55                  False     A  \n",
            "4                       84                  False     B  \n",
            "..                     ...                    ...   ...  \n",
            "495                     76                  False    A+  \n",
            "496                     90                  False    A+  \n",
            "497                     89                   True     A  \n",
            "498                     45                   True    A+  \n",
            "499                     64                  False     B  \n",
            "\n",
            "[500 rows x 7 columns]\n"
          ]
        }
      ]
    },
    {
      "cell_type": "markdown",
      "source": [
        "Generating student performance reports in a user-friendly format."
      ],
      "metadata": {
        "id": "om0IJaiOm-c9"
      }
    },
    {
      "cell_type": "code",
      "source": [],
      "metadata": {
        "id": "QEFyhGrsnjqt"
      },
      "execution_count": null,
      "outputs": []
    },
    {
      "cell_type": "markdown",
      "source": [
        "**6. Advanced Features (Optional for Bonus Marks)**"
      ],
      "metadata": {
        "id": "3uIwL-VFgiki"
      }
    },
    {
      "cell_type": "markdown",
      "source": [
        "**● Exception Handling:**"
      ],
      "metadata": {
        "id": "zMzGGybtrTsX"
      }
    },
    {
      "cell_type": "markdown",
      "source": [
        "Handle file-not-found errors, invalid input errors, or division by zero errors."
      ],
      "metadata": {
        "id": "bwPdzyYerZvu"
      }
    },
    {
      "cell_type": "code",
      "source": [
        "# Handle file-not-found errors\n",
        "\n",
        "# Writing to a file\n",
        "with open(\"example.txt\", \"w\") as file:\n",
        "    file.write(\"Hello, File Handlingdsddsds yrtdftvtfvtrf!\")\n",
        "\n",
        "# Reading from a file\n",
        "with open(\"example.txt\", \"r\") as file:\n",
        "    content = file.read()\n",
        "    print(content)  # Output: Hello, File Handling!"
      ],
      "metadata": {
        "id": "mUtA0QCmPGzJ"
      },
      "execution_count": null,
      "outputs": []
    },
    {
      "cell_type": "code",
      "source": [
        "# invalid input errors, or division by zero errors\n",
        "\n",
        "try:\n",
        "  list_a = list(map(int, input(\"Enter 5 numbers:\").split()))\n",
        "  assert len(list_a) == 5\n",
        "  dividend = sum(list_a)/list_a[4]\n",
        "  print(dividend)\n",
        "except ZeroDivisionError:\n",
        "  print(\"Denomenetor can't be zero\")\n",
        "except IndexError:\n",
        "  print(\"Please enter five numbers!\")\n",
        "# except AssertionError:\n",
        "#   print(\"Max 5 numbers\")\n",
        "except:\n",
        "  print(\"Please enter some real numbers\")\n",
        "finally:\n",
        "  print(\"Thank you!\")"
      ],
      "metadata": {
        "colab": {
          "base_uri": "https://localhost:8080/"
        },
        "id": "IOZG3yz8Pnyp",
        "outputId": "2d362d31-17fb-437a-956e-3ce8335cd55e"
      },
      "execution_count": null,
      "outputs": [
        {
          "output_type": "stream",
          "name": "stdout",
          "text": [
            "Enter 5 numbers:00000\n",
            "Please enter some real numbers\n",
            "Thank you!\n"
          ]
        }
      ]
    },
    {
      "cell_type": "markdown",
      "source": [
        "**● Regular Expressions (RegEx):**"
      ],
      "metadata": {
        "id": "0k2A1T1PpxwW"
      }
    },
    {
      "cell_type": "markdown",
      "source": [
        "Validate student IDs (e.g., IDs must follow a specific pattern like STU-12345)."
      ],
      "metadata": {
        "id": "KMOHEEY8p6YF"
      }
    },
    {
      "cell_type": "code",
      "source": [
        "import re\n",
        "id_checker_regex = r\"^STU-\"\n",
        "id_input = input(\"Enter your ID: \")\n",
        "\n",
        "if re.match(id_checker_regex, id_input):\n",
        "  print(\"Valid\")\n",
        "else:\n",
        "  print(\"Invalid\")"
      ],
      "metadata": {
        "colab": {
          "base_uri": "https://localhost:8080/"
        },
        "id": "5U4VL5p2qOaO",
        "outputId": "dd4eb9e3-d85a-44e3-b57a-857f36f5ec5b"
      },
      "execution_count": null,
      "outputs": [
        {
          "output_type": "stream",
          "name": "stdout",
          "text": [
            "Enter your ID: UYH8GFD7DG\n",
            "Invalid\n"
          ]
        }
      ]
    },
    {
      "cell_type": "markdown",
      "source": [
        "**7. Interactive Console Input/Output**"
      ],
      "metadata": {
        "id": "TYI-DLExgnlC"
      }
    }
  ]
}